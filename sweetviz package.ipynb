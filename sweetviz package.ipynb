{
 "cells": [
  {
   "cell_type": "code",
   "execution_count": 1,
   "metadata": {},
   "outputs": [
    {
     "name": "stdout",
     "output_type": "stream",
     "text": [
      "Requirement already satisfied: sweetviz in c:\\users\\shraddha\\appdata\\roaming\\python\\python37\\site-packages (2.0.9)\n",
      "Requirement already satisfied: scipy>=1.3.2 in c:\\users\\shraddha\\anaconda3\\lib\\site-packages (from sweetviz) (1.6.1)\n",
      "Requirement already satisfied: pandas!=1.0.0,!=1.0.1,!=1.0.2,>=0.25.3 in c:\\users\\shraddha\\anaconda3\\lib\\site-packages (from sweetviz) (1.1.5)\n",
      "Requirement already satisfied: matplotlib>=3.1.3 in c:\\users\\shraddha\\appdata\\roaming\\python\\python37\\site-packages (from sweetviz) (3.3.4)\n",
      "Requirement already satisfied: numpy>=1.16.0 in c:\\users\\shraddha\\anaconda3\\lib\\site-packages (from sweetviz) (1.16.5)\n",
      "Requirement already satisfied: jinja2>=2.11.1 in c:\\users\\shraddha\\anaconda3\\lib\\site-packages (from sweetviz) (2.11.3)\n",
      "Requirement already satisfied: importlib-resources>=1.2.0 in c:\\users\\shraddha\\anaconda3\\lib\\site-packages (from sweetviz) (5.1.2)\n",
      "Requirement already satisfied: tqdm>=4.43.0 in c:\\users\\shraddha\\anaconda3\\lib\\site-packages (from sweetviz) (4.59.0)\n",
      "Requirement already satisfied: pytz>=2017.2 in c:\\users\\shraddha\\anaconda3\\lib\\site-packages (from pandas!=1.0.0,!=1.0.1,!=1.0.2,>=0.25.3->sweetviz) (2019.3)\n",
      "Requirement already satisfied: python-dateutil>=2.7.3 in c:\\users\\shraddha\\anaconda3\\lib\\site-packages (from pandas!=1.0.0,!=1.0.1,!=1.0.2,>=0.25.3->sweetviz) (2.8.0)\n",
      "Requirement already satisfied: pillow>=6.2.0 in c:\\users\\shraddha\\anaconda3\\lib\\site-packages (from matplotlib>=3.1.3->sweetviz) (6.2.0)\n",
      "Requirement already satisfied: kiwisolver>=1.0.1 in c:\\users\\shraddha\\anaconda3\\lib\\site-packages (from matplotlib>=3.1.3->sweetviz) (1.1.0)\n",
      "Requirement already satisfied: pyparsing!=2.0.4,!=2.1.2,!=2.1.6,>=2.0.3 in c:\\users\\shraddha\\anaconda3\\lib\\site-packages (from matplotlib>=3.1.3->sweetviz) (2.4.2)\n",
      "Requirement already satisfied: cycler>=0.10 in c:\\users\\shraddha\\anaconda3\\lib\\site-packages (from matplotlib>=3.1.3->sweetviz) (0.10.0)\n",
      "Requirement already satisfied: MarkupSafe>=0.23 in c:\\users\\shraddha\\anaconda3\\lib\\site-packages (from jinja2>=2.11.1->sweetviz) (1.1.1)\n",
      "Requirement already satisfied: zipp>=0.4; python_version < \"3.8\" in c:\\users\\shraddha\\anaconda3\\lib\\site-packages (from importlib-resources>=1.2.0->sweetviz) (0.6.0)\n",
      "Requirement already satisfied: six>=1.5 in c:\\users\\shraddha\\anaconda3\\lib\\site-packages (from python-dateutil>=2.7.3->pandas!=1.0.0,!=1.0.1,!=1.0.2,>=0.25.3->sweetviz) (1.12.0)\n",
      "Requirement already satisfied: setuptools in c:\\users\\shraddha\\anaconda3\\lib\\site-packages (from kiwisolver>=1.0.1->matplotlib>=3.1.3->sweetviz) (41.4.0)\n",
      "Requirement already satisfied: more-itertools in c:\\users\\shraddha\\anaconda3\\lib\\site-packages (from zipp>=0.4; python_version < \"3.8\"->importlib-resources>=1.2.0->sweetviz) (7.2.0)\n",
      "Note: you may need to restart the kernel to use updated packages.\n"
     ]
    }
   ],
   "source": [
    "pip install sweetviz --user"
   ]
  },
  {
   "cell_type": "code",
   "execution_count": 2,
   "metadata": {},
   "outputs": [],
   "source": [
    "import pandas as pd\n",
    "import sweetviz "
   ]
  },
  {
   "cell_type": "code",
   "execution_count": 3,
   "metadata": {},
   "outputs": [],
   "source": [
    "data=pd.read_csv(r\"C:\\Users\\Shraddha\\srk_datasets\\fish.csv\")"
   ]
  },
  {
   "cell_type": "code",
   "execution_count": 4,
   "metadata": {},
   "outputs": [
    {
     "data": {
      "application/vnd.jupyter.widget-view+json": {
       "model_id": "b9d4228a582c49a9a8e7fa7971076c5c",
       "version_major": 2,
       "version_minor": 0
      },
      "text/plain": [
       "                                             |                                             | [  0%]   00:00 ->…"
      ]
     },
     "metadata": {},
     "output_type": "display_data"
    }
   ],
   "source": [
    "report=sweetviz.analyze(data)"
   ]
  },
  {
   "cell_type": "code",
   "execution_count": 5,
   "metadata": {},
   "outputs": [
    {
     "name": "stdout",
     "output_type": "stream",
     "text": [
      "Report SWEETVIZ_REPORT.html was generated! NOTEBOOK/COLAB USERS: the web browser MAY not pop up, regardless, the report IS saved in your notebook/colab files.\n"
     ]
    }
   ],
   "source": [
    "report.show_html()"
   ]
  },
  {
   "cell_type": "code",
   "execution_count": null,
   "metadata": {},
   "outputs": [],
   "source": []
  }
 ],
 "metadata": {
  "kernelspec": {
   "display_name": "Python 3",
   "language": "python",
   "name": "python3"
  },
  "language_info": {
   "codemirror_mode": {
    "name": "ipython",
    "version": 3
   },
   "file_extension": ".py",
   "mimetype": "text/x-python",
   "name": "python",
   "nbconvert_exporter": "python",
   "pygments_lexer": "ipython3",
   "version": "3.7.4"
  }
 },
 "nbformat": 4,
 "nbformat_minor": 2
}
