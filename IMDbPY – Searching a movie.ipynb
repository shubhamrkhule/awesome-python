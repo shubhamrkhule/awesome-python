{
 "cells": [
  {
   "cell_type": "code",
   "execution_count": 1,
   "metadata": {},
   "outputs": [],
   "source": [
    "import warnings\n",
    "warnings.filterwarnings('ignore')"
   ]
  },
  {
   "cell_type": "code",
   "execution_count": 2,
   "metadata": {},
   "outputs": [
    {
     "name": "stdout",
     "output_type": "stream",
     "text": [
      "Requirement already satisfied: IMDbPY in c:\\users\\shraddha\\anaconda3\\lib\\site-packages (2021.4.18)\n",
      "Requirement already satisfied: SQLAlchemy in c:\\users\\shraddha\\anaconda3\\lib\\site-packages (from IMDbPY) (1.3.9)\n",
      "Requirement already satisfied: lxml in c:\\users\\shraddha\\anaconda3\\lib\\site-packages (from IMDbPY) (4.4.1)\n",
      "Note: you may need to restart the kernel to use updated packages.\n"
     ]
    }
   ],
   "source": [
    "pip install IMDbPY"
   ]
  },
  {
   "cell_type": "code",
   "execution_count": 3,
   "metadata": {},
   "outputs": [],
   "source": [
    "import imdb\n",
    "hr=imdb.IMDb()"
   ]
  },
  {
   "cell_type": "code",
   "execution_count": 4,
   "metadata": {},
   "outputs": [
    {
     "name": "stdout",
     "output_type": "stream",
     "text": [
      "enter the movie name: dhamaal\n"
     ]
    }
   ],
   "source": [
    "moviename=input(\"enter the movie name: \")\n",
    "search=hr.search_movie(moviename)\n",
    "index=search[0].getID()\n",
    "movie=hr.get_movie(index)\n",
    "title=movie['title']\n",
    "year=movie['year']\n",
    "cast=movie['cast']\n",
    "genre=movie['genre']\n",
    "list_of_cast=','.join(map(str,cast))"
   ]
  },
  {
   "cell_type": "code",
   "execution_count": 5,
   "metadata": {},
   "outputs": [
    {
     "name": "stdout",
     "output_type": "stream",
     "text": [
      "title:  Dhamaal\n",
      "year :  2007\n",
      "genre :  ['Action', 'Adventure', 'Comedy']\n",
      "cast :  Sanjay Dutt,Riteish Deshmukh,Arshad Warsi,Javed Jaffrey,Aashish Chaudhary,Asrani,Sanjay Mishra,Vijay Raaz,Tiku Talsania,Vijay Patkar,Vinay Apte,Vishwajeet Soni,Suhasini Mulay,Manoj Pahwa,Kiku Sharda,Rana Jung Bahadur,Sahil Chauhan,Prem Chopra,Kurush Deboo,Milind Jadhav,Amay Kadakia,Ninad Kamat,Surendra Rajan,D. Santosh,Murli Sharma,Chacha Chaudhary\n"
     ]
    }
   ],
   "source": [
    "print(\"title: \",title)\n",
    "print(\"year : \",year)\n",
    "print(\"genre : \",genre)\n",
    "print(\"cast : \",list_of_cast)\n"
   ]
  },
  {
   "cell_type": "code",
   "execution_count": null,
   "metadata": {},
   "outputs": [],
   "source": []
  }
 ],
 "metadata": {
  "kernelspec": {
   "display_name": "Python 3",
   "language": "python",
   "name": "python3"
  },
  "language_info": {
   "codemirror_mode": {
    "name": "ipython",
    "version": 3
   },
   "file_extension": ".py",
   "mimetype": "text/x-python",
   "name": "python",
   "nbconvert_exporter": "python",
   "pygments_lexer": "ipython3",
   "version": "3.7.4"
  }
 },
 "nbformat": 4,
 "nbformat_minor": 2
}
