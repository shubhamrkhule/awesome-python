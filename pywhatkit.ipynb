{
 "cells": [
  {
   "cell_type": "code",
   "execution_count": 1,
   "metadata": {},
   "outputs": [],
   "source": [
    "import warnings\n",
    "warnings.filterwarnings('ignore')"
   ]
  },
  {
   "cell_type": "code",
   "execution_count": 2,
   "metadata": {},
   "outputs": [
    {
     "name": "stdout",
     "output_type": "stream",
     "text": [
      "Requirement already satisfied: pywhatkit in c:\\users\\shraddha\\anaconda3\\lib\\site-packages (4.1)\n",
      "Requirement already satisfied: pyautogui in c:\\users\\shraddha\\anaconda3\\lib\\site-packages (from pywhatkit) (0.9.52)\n",
      "Requirement already satisfied: wikipedia in c:\\users\\shraddha\\anaconda3\\lib\\site-packages (from pywhatkit) (1.4.0)\n",
      "Requirement already satisfied: requests in c:\\users\\shraddha\\anaconda3\\lib\\site-packages (from pywhatkit) (2.22.0)\n",
      "Requirement already satisfied: Pillow in c:\\users\\shraddha\\anaconda3\\lib\\site-packages (from pywhatkit) (6.2.0)\n",
      "Requirement already satisfied: pygetwindow>=0.0.5 in c:\\users\\shraddha\\anaconda3\\lib\\site-packages (from pyautogui->pywhatkit) (0.0.9)\n",
      "Requirement already satisfied: pyscreeze>=0.1.21 in c:\\users\\shraddha\\anaconda3\\lib\\site-packages (from pyautogui->pywhatkit) (0.1.26)\n",
      "Requirement already satisfied: pymsgbox in c:\\users\\shraddha\\anaconda3\\lib\\site-packages (from pyautogui->pywhatkit) (1.0.9)\n",
      "Requirement already satisfied: PyTweening>=1.0.1 in c:\\users\\shraddha\\anaconda3\\lib\\site-packages (from pyautogui->pywhatkit) (1.0.3)\n",
      "Requirement already satisfied: mouseinfo in c:\\users\\shraddha\\anaconda3\\lib\\site-packages (from pyautogui->pywhatkit) (0.1.3)\n",
      "Requirement already satisfied: beautifulsoup4 in c:\\users\\shraddha\\anaconda3\\lib\\site-packages (from wikipedia->pywhatkit) (4.8.0)\n",
      "Requirement already satisfied: urllib3!=1.25.0,!=1.25.1,<1.26,>=1.21.1 in c:\\users\\shraddha\\anaconda3\\lib\\site-packages (from requests->pywhatkit) (1.24.2)\n",
      "Requirement already satisfied: certifi>=2017.4.17 in c:\\users\\shraddha\\anaconda3\\lib\\site-packages (from requests->pywhatkit) (2019.9.11)\n",
      "Requirement already satisfied: chardet<3.1.0,>=3.0.2 in c:\\users\\shraddha\\anaconda3\\lib\\site-packages (from requests->pywhatkit) (3.0.4)\n",
      "Requirement already satisfied: idna<2.9,>=2.5 in c:\\users\\shraddha\\anaconda3\\lib\\site-packages (from requests->pywhatkit) (2.8)\n",
      "Requirement already satisfied: pyrect in c:\\users\\shraddha\\anaconda3\\lib\\site-packages (from pygetwindow>=0.0.5->pyautogui->pywhatkit) (0.1.4)\n",
      "Requirement already satisfied: pyperclip in c:\\users\\shraddha\\anaconda3\\lib\\site-packages (from mouseinfo->pyautogui->pywhatkit) (1.8.2)\n",
      "Requirement already satisfied: soupsieve>=1.2 in c:\\users\\shraddha\\anaconda3\\lib\\site-packages (from beautifulsoup4->wikipedia->pywhatkit) (1.9.3)\n",
      "Note: you may need to restart the kernel to use updated packages.\n"
     ]
    }
   ],
   "source": [
    "pip install pywhatkit"
   ]
  },
  {
   "cell_type": "code",
   "execution_count": 1,
   "metadata": {},
   "outputs": [],
   "source": [
    "import pywhatkit"
   ]
  },
  {
   "cell_type": "code",
   "execution_count": 3,
   "metadata": {},
   "outputs": [
    {
     "name": "stdout",
     "output_type": "stream",
     "text": [
      "In 30 seconds web.whatsapp.com will open and after 20 seconds message will be delivered\n"
     ]
    }
   ],
   "source": [
    "pywhatkit.sendwhatmsg('+91 **********','heyyy',18,50)"
   ]
  },
  {
   "cell_type": "code",
   "execution_count": 4,
   "metadata": {},
   "outputs": [
    {
     "name": "stdout",
     "output_type": "stream",
     "text": [
      "searching\n"
     ]
    }
   ],
   "source": [
    "pywhatkit.search('geekforgeeks')\n",
    "print('searching')"
   ]
  },
  {
   "cell_type": "code",
   "execution_count": 5,
   "metadata": {},
   "outputs": [
    {
     "name": "stdout",
     "output_type": "stream",
     "text": [
      "playing youtube...\n"
     ]
    }
   ],
   "source": [
    "pywhatkit.playonyt('https://www.youtube.com/')\n",
    "print('playing youtube...')"
   ]
  },
  {
   "cell_type": "code",
   "execution_count": null,
   "metadata": {},
   "outputs": [],
   "source": []
  }
 ],
 "metadata": {
  "kernelspec": {
   "display_name": "Python 3",
   "language": "python",
   "name": "python3"
  },
  "language_info": {
   "codemirror_mode": {
    "name": "ipython",
    "version": 3
   },
   "file_extension": ".py",
   "mimetype": "text/x-python",
   "name": "python",
   "nbconvert_exporter": "python",
   "pygments_lexer": "ipython3",
   "version": "3.7.4"
  }
 },
 "nbformat": 4,
 "nbformat_minor": 2
}
