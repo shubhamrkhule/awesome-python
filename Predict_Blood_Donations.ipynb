{
 "cells": [
  {
   "cell_type": "markdown",
   "metadata": {},
   "source": [
    "# Project Description\n",
    "Forecasting blood supply is a serious and recurrent problem for blood collection managers.In this Project, you will work with data collected from the donor database of Blood TransfusionService Center.<p>The dataset, obtained from the Machine Learning Repository, consists of arandom sample of 748 donors. Your task will be to predict if a blood donor will donate within a giventime window.<p>You will look at the full model-building process: from inspecting the dataset to usingthe tpot library to automate your Machine Learning pipeline.To complete this Project, you need to know some Python, pandas, and logistic regression."
   ]
  },
  {
   "cell_type": "markdown",
   "metadata": {},
   "source": [
    "## Task 1: \n",
    "Inspect the file that contains the dataset.<p>•Print out the first 5 lines from datasets/transfusion.data using the head shellcommand.<br>Make sure to first read the narrative for each task in the notebook on the right before reading themore detailed instructions here. To complete this Project, you need to know some Python, pandas,and logistic regression. We recommend one is familiar with the content.To run a shell command in a notebook, you prefix it with !, e.g. !ls will list directory contents.\n"
   ]
  },
  {
   "cell_type": "code",
   "execution_count": 1,
   "metadata": {},
   "outputs": [
    {
     "data": {
      "text/html": [
       "<div>\n",
       "<style scoped>\n",
       "    .dataframe tbody tr th:only-of-type {\n",
       "        vertical-align: middle;\n",
       "    }\n",
       "\n",
       "    .dataframe tbody tr th {\n",
       "        vertical-align: top;\n",
       "    }\n",
       "\n",
       "    .dataframe thead th {\n",
       "        text-align: right;\n",
       "    }\n",
       "</style>\n",
       "<table border=\"1\" class=\"dataframe\">\n",
       "  <thead>\n",
       "    <tr style=\"text-align: right;\">\n",
       "      <th></th>\n",
       "      <th>Recency (months)</th>\n",
       "      <th>Frequency (times)</th>\n",
       "      <th>Monetary (c.c. blood)</th>\n",
       "      <th>Time (months)</th>\n",
       "      <th>whether he/she donated blood in March 2007</th>\n",
       "    </tr>\n",
       "  </thead>\n",
       "  <tbody>\n",
       "    <tr>\n",
       "      <th>0</th>\n",
       "      <td>2</td>\n",
       "      <td>50</td>\n",
       "      <td>12500</td>\n",
       "      <td>98</td>\n",
       "      <td>1</td>\n",
       "    </tr>\n",
       "    <tr>\n",
       "      <th>1</th>\n",
       "      <td>0</td>\n",
       "      <td>13</td>\n",
       "      <td>3250</td>\n",
       "      <td>28</td>\n",
       "      <td>1</td>\n",
       "    </tr>\n",
       "    <tr>\n",
       "      <th>2</th>\n",
       "      <td>1</td>\n",
       "      <td>16</td>\n",
       "      <td>4000</td>\n",
       "      <td>35</td>\n",
       "      <td>1</td>\n",
       "    </tr>\n",
       "    <tr>\n",
       "      <th>3</th>\n",
       "      <td>2</td>\n",
       "      <td>20</td>\n",
       "      <td>5000</td>\n",
       "      <td>45</td>\n",
       "      <td>1</td>\n",
       "    </tr>\n",
       "    <tr>\n",
       "      <th>4</th>\n",
       "      <td>1</td>\n",
       "      <td>24</td>\n",
       "      <td>6000</td>\n",
       "      <td>77</td>\n",
       "      <td>0</td>\n",
       "    </tr>\n",
       "  </tbody>\n",
       "</table>\n",
       "</div>"
      ],
      "text/plain": [
       "   Recency (months)  Frequency (times)  Monetary (c.c. blood)  Time (months)  \\\n",
       "0                 2                 50                  12500             98   \n",
       "1                 0                 13                   3250             28   \n",
       "2                 1                 16                   4000             35   \n",
       "3                 2                 20                   5000             45   \n",
       "4                 1                 24                   6000             77   \n",
       "\n",
       "   whether he/she donated blood in March 2007  \n",
       "0                                           1  \n",
       "1                                           1  \n",
       "2                                           1  \n",
       "3                                           1  \n",
       "4                                           0  "
      ]
     },
     "execution_count": 1,
     "metadata": {},
     "output_type": "execute_result"
    }
   ],
   "source": [
    "import pandas as pd\n",
    "transfusion=pd.read_csv('transfusion.data')\n",
    "transfusion.head()"
   ]
  },
  {
   "cell_type": "markdown",
   "metadata": {},
   "source": [
    "## Task 2:\n",
    "InstructionsLoad the dataset.<br>•Import the pandas library.<br>•Load the transfusion.data file from datasets/transfusion.data and assign it tothe transfusion variable.<br>•Display the first rows of the DataFrame with the head() method to verify the file was loadedcorrectly.<br>If you print the first few rows of data, you should see a table with only 5 columns"
   ]
  },
  {
   "cell_type": "code",
   "execution_count": 2,
   "metadata": {},
   "outputs": [
    {
     "data": {
      "text/html": [
       "<div>\n",
       "<style scoped>\n",
       "    .dataframe tbody tr th:only-of-type {\n",
       "        vertical-align: middle;\n",
       "    }\n",
       "\n",
       "    .dataframe tbody tr th {\n",
       "        vertical-align: top;\n",
       "    }\n",
       "\n",
       "    .dataframe thead th {\n",
       "        text-align: right;\n",
       "    }\n",
       "</style>\n",
       "<table border=\"1\" class=\"dataframe\">\n",
       "  <thead>\n",
       "    <tr style=\"text-align: right;\">\n",
       "      <th></th>\n",
       "      <th>Recency (months)</th>\n",
       "      <th>Frequency (times)</th>\n",
       "      <th>Monetary (c.c. blood)</th>\n",
       "      <th>Time (months)</th>\n",
       "      <th>whether he/she donated blood in March 2007</th>\n",
       "    </tr>\n",
       "  </thead>\n",
       "  <tbody>\n",
       "    <tr>\n",
       "      <th>0</th>\n",
       "      <td>2</td>\n",
       "      <td>50</td>\n",
       "      <td>12500</td>\n",
       "      <td>98</td>\n",
       "      <td>1</td>\n",
       "    </tr>\n",
       "    <tr>\n",
       "      <th>1</th>\n",
       "      <td>0</td>\n",
       "      <td>13</td>\n",
       "      <td>3250</td>\n",
       "      <td>28</td>\n",
       "      <td>1</td>\n",
       "    </tr>\n",
       "  </tbody>\n",
       "</table>\n",
       "</div>"
      ],
      "text/plain": [
       "   Recency (months)  Frequency (times)  Monetary (c.c. blood)  Time (months)  \\\n",
       "0                 2                 50                  12500             98   \n",
       "1                 0                 13                   3250             28   \n",
       "\n",
       "   whether he/she donated blood in March 2007  \n",
       "0                                           1  \n",
       "1                                           1  "
      ]
     },
     "execution_count": 2,
     "metadata": {},
     "output_type": "execute_result"
    }
   ],
   "source": [
    "import pandas as pd\n",
    "transfusion=pd.read_csv('transfusion.data')\n",
    "transfusion.head(2)"
   ]
  },
  {
   "cell_type": "markdown",
   "metadata": {},
   "source": [
    "## Task 3:\n",
    "InstructionsInspect the DataFrame's structure.<br>•Print a concise summary of the transfusion DataFrame with the info() method.DataFrame's info() method prints some useful information about a DataFrame:•index type•column types•non-null values•memory usageincluding the index dtype and column dtypes, non-null values and memoryusage.\n"
   ]
  },
  {
   "cell_type": "code",
   "execution_count": 3,
   "metadata": {},
   "outputs": [
    {
     "name": "stdout",
     "output_type": "stream",
     "text": [
      "Shape: (748, 5)\n",
      "<class 'pandas.core.frame.DataFrame'>\n",
      "RangeIndex: 748 entries, 0 to 747\n",
      "Data columns (total 5 columns):\n",
      " #   Column                                      Non-Null Count  Dtype\n",
      "---  ------                                      --------------  -----\n",
      " 0   Recency (months)                            748 non-null    int64\n",
      " 1   Frequency (times)                           748 non-null    int64\n",
      " 2   Monetary (c.c. blood)                       748 non-null    int64\n",
      " 3   Time (months)                               748 non-null    int64\n",
      " 4   whether he/she donated blood in March 2007  748 non-null    int64\n",
      "dtypes: int64(5)\n",
      "memory usage: 29.3 KB\n",
      "Info: None\n",
      "Description:        Recency (months)  Frequency (times)  Monetary (c.c. blood)  \\\n",
      "count        748.000000         748.000000             748.000000   \n",
      "mean           9.506684           5.514706            1378.676471   \n",
      "std            8.095396           5.839307            1459.826781   \n",
      "min            0.000000           1.000000             250.000000   \n",
      "25%            2.750000           2.000000             500.000000   \n",
      "50%            7.000000           4.000000            1000.000000   \n",
      "75%           14.000000           7.000000            1750.000000   \n",
      "max           74.000000          50.000000           12500.000000   \n",
      "\n",
      "       Time (months)  whether he/she donated blood in March 2007  \n",
      "count     748.000000                                  748.000000  \n",
      "mean       34.282086                                    0.237968  \n",
      "std        24.376714                                    0.426124  \n",
      "min         2.000000                                    0.000000  \n",
      "25%        16.000000                                    0.000000  \n",
      "50%        28.000000                                    0.000000  \n",
      "75%        50.000000                                    0.000000  \n",
      "max        98.000000                                    1.000000  \n"
     ]
    }
   ],
   "source": [
    "print('Shape:',transfusion.shape)\n",
    "print('Info:',transfusion.info())\n",
    "print('Description:',transfusion.describe())"
   ]
  },
  {
   "cell_type": "markdown",
   "metadata": {},
   "source": [
    "## Task 4:  \n",
    "Rename a column. <br>Rename whether he/she donated blood in March 2007 to target for brevity.<br>•Print the first 2 rows of the DataFrame with the head() method to verify the change was donecorrectly.<p>By setting the inplace parameter of the rename() method to True, the transfusion DataFrameis changed in-place, i.e., the transfusion variable will now point to the updated DataFrame asyou'll verify by printing the first 2 rows"
   ]
  },
  {
   "cell_type": "code",
   "execution_count": 4,
   "metadata": {},
   "outputs": [
    {
     "data": {
      "text/html": [
       "<div>\n",
       "<style scoped>\n",
       "    .dataframe tbody tr th:only-of-type {\n",
       "        vertical-align: middle;\n",
       "    }\n",
       "\n",
       "    .dataframe tbody tr th {\n",
       "        vertical-align: top;\n",
       "    }\n",
       "\n",
       "    .dataframe thead th {\n",
       "        text-align: right;\n",
       "    }\n",
       "</style>\n",
       "<table border=\"1\" class=\"dataframe\">\n",
       "  <thead>\n",
       "    <tr style=\"text-align: right;\">\n",
       "      <th></th>\n",
       "      <th>Recency (months)</th>\n",
       "      <th>Frequency (times)</th>\n",
       "      <th>Monetary (c.c. blood)</th>\n",
       "      <th>Time (months)</th>\n",
       "      <th>target</th>\n",
       "    </tr>\n",
       "  </thead>\n",
       "  <tbody>\n",
       "    <tr>\n",
       "      <th>0</th>\n",
       "      <td>2</td>\n",
       "      <td>50</td>\n",
       "      <td>12500</td>\n",
       "      <td>98</td>\n",
       "      <td>1</td>\n",
       "    </tr>\n",
       "    <tr>\n",
       "      <th>1</th>\n",
       "      <td>0</td>\n",
       "      <td>13</td>\n",
       "      <td>3250</td>\n",
       "      <td>28</td>\n",
       "      <td>1</td>\n",
       "    </tr>\n",
       "  </tbody>\n",
       "</table>\n",
       "</div>"
      ],
      "text/plain": [
       "   Recency (months)  Frequency (times)  Monetary (c.c. blood)  Time (months)  \\\n",
       "0                 2                 50                  12500             98   \n",
       "1                 0                 13                   3250             28   \n",
       "\n",
       "   target  \n",
       "0       1  \n",
       "1       1  "
      ]
     },
     "execution_count": 4,
     "metadata": {},
     "output_type": "execute_result"
    }
   ],
   "source": [
    "transfusion.rename(columns={'whether he/she donated blood in March 2007':'target'},inplace=True)\n",
    "transfusion.head(2)"
   ]
  },
  {
   "cell_type": "markdown",
   "metadata": {},
   "source": [
    "## Task 5:\n",
    "Print target incidence.<p>•Use value_counts() method on transfusion.target column to print target incidenceproportions, setting normalize=True and rounding the output to 3 decimal places.By default, value_counts() method returns counts of unique values. Bysetting normalize=True, the value_counts() will return the relative frequencies of the uniquevalues instead"
   ]
  },
  {
   "cell_type": "code",
   "execution_count": 5,
   "metadata": {},
   "outputs": [
    {
     "data": {
      "text/plain": [
       "0    0.762\n",
       "1    0.238\n",
       "Name: target, dtype: float64"
      ]
     },
     "execution_count": 5,
     "metadata": {},
     "output_type": "execute_result"
    }
   ],
   "source": [
    "round(transfusion['target'].value_counts(normalize=True),3)"
   ]
  },
  {
   "cell_type": "markdown",
   "metadata": {},
   "source": [
    "## Task 6:\n",
    "Split the transfusion DataFrame into train and test datasets.<br>•Import train_test_split from sklearn.model_selection module.<br>•Split transfusion into X_train, X_test, y_train and y_test datasets, stratifying onthe target column.<br>•Print the first 2 rows of the X_train DataFrame with the head() method.Writing the code to split the data into the 4 datasets needed would require a lot of work. Instead, youwill use the train_test_split() method in the scikit-learn library"
   ]
  },
  {
   "cell_type": "code",
   "execution_count": 6,
   "metadata": {},
   "outputs": [
    {
     "data": {
      "text/html": [
       "<div>\n",
       "<style scoped>\n",
       "    .dataframe tbody tr th:only-of-type {\n",
       "        vertical-align: middle;\n",
       "    }\n",
       "\n",
       "    .dataframe tbody tr th {\n",
       "        vertical-align: top;\n",
       "    }\n",
       "\n",
       "    .dataframe thead th {\n",
       "        text-align: right;\n",
       "    }\n",
       "</style>\n",
       "<table border=\"1\" class=\"dataframe\">\n",
       "  <thead>\n",
       "    <tr style=\"text-align: right;\">\n",
       "      <th></th>\n",
       "      <th>Recency (months)</th>\n",
       "      <th>Frequency (times)</th>\n",
       "      <th>Monetary (c.c. blood)</th>\n",
       "      <th>Time (months)</th>\n",
       "    </tr>\n",
       "  </thead>\n",
       "  <tbody>\n",
       "    <tr>\n",
       "      <th>334</th>\n",
       "      <td>16</td>\n",
       "      <td>2</td>\n",
       "      <td>500</td>\n",
       "      <td>16</td>\n",
       "    </tr>\n",
       "    <tr>\n",
       "      <th>99</th>\n",
       "      <td>5</td>\n",
       "      <td>7</td>\n",
       "      <td>1750</td>\n",
       "      <td>26</td>\n",
       "    </tr>\n",
       "  </tbody>\n",
       "</table>\n",
       "</div>"
      ],
      "text/plain": [
       "     Recency (months)  Frequency (times)  Monetary (c.c. blood)  Time (months)\n",
       "334                16                  2                    500             16\n",
       "99                  5                  7                   1750             26"
      ]
     },
     "execution_count": 6,
     "metadata": {},
     "output_type": "execute_result"
    }
   ],
   "source": [
    "from sklearn.model_selection import train_test_split\n",
    "x_train,x_test,y_train,y_test=train_test_split(transfusion.drop(columns='target'),\n",
    "                                              transfusion.target,\n",
    "                                              test_size=0.25,\n",
    "                                              random_state=42,\n",
    "                                              stratify= transfusion.target\n",
    "                                              )\n",
    "x_train.head(2)"
   ]
  },
  {
   "cell_type": "markdown",
   "metadata": {},
   "source": [
    "## Task 7:\n",
    "Use the TPOT library to find the best machine learning pipeline.<br>•Import TPOTClassifier from tpot and roc_auc_score from sklearn.metrics.<br>•Create an instance of TPOTClassifier and assign it to tpot variable.<br>•Print tpot_auc_score, rounding it to 4 decimal places.<br>•Print idx and transform in the for-loop to display the pipeline steps.<p>You will adapt the classification example from the TPOT's documentation. In particular, you willspecify scoring='roc_auc' because this is the metric that you want to optimize for andadd random_state=42 for reproducibility. You'll also use TPOT lightconfiguration with only fastmodels and preprocessors.The nice thing about TPOT is that it has the same API as scikit-learn, i.e., you first instantiate amodel and then you train it, using the fit method.Data pre-processing affects the model's performance, and tpot's fitted_pipeline_ attribute willallow you to see what pre-processing (if any) was done in the best pipeline"
   ]
  },
  {
   "cell_type": "code",
   "execution_count": 7,
   "metadata": {},
   "outputs": [
    {
     "name": "stdout",
     "output_type": "stream",
     "text": [
      "Requirement already satisfied: TPOT in c:\\users\\shraddha\\anaconda3\\lib\\site-packages (0.11.5)\n",
      "Requirement already satisfied: joblib>=0.13.2 in c:\\users\\shraddha\\anaconda3\\lib\\site-packages (from TPOT) (0.13.2)\n",
      "Requirement already satisfied: scipy>=1.3.1 in c:\\users\\shraddha\\anaconda3\\lib\\site-packages (from TPOT) (1.3.1)\n",
      "Requirement already satisfied: update-checker>=0.16 in c:\\users\\shraddha\\anaconda3\\lib\\site-packages (from TPOT) (0.18.0)\n",
      "Requirement already satisfied: tqdm>=4.36.1 in c:\\users\\shraddha\\anaconda3\\lib\\site-packages (from TPOT) (4.36.1)\n",
      "Requirement already satisfied: numpy>=1.16.3 in c:\\users\\shraddha\\anaconda3\\lib\\site-packages (from TPOT) (1.16.5)\n",
      "Requirement already satisfied: stopit>=1.1.1 in c:\\users\\shraddha\\anaconda3\\lib\\site-packages (from TPOT) (1.1.2)\n",
      "Requirement already satisfied: scikit-learn>=0.22.0 in c:\\users\\shraddha\\anaconda3\\lib\\site-packages (from TPOT) (0.23.2)\n",
      "Requirement already satisfied: deap>=1.2 in c:\\users\\shraddha\\anaconda3\\lib\\site-packages (from TPOT) (1.3.1)\n",
      "Requirement already satisfied: pandas>=0.24.2 in c:\\users\\shraddha\\anaconda3\\lib\\site-packages (from TPOT) (1.1.2)\n",
      "Requirement already satisfied: requests>=2.3.0 in c:\\users\\shraddha\\anaconda3\\lib\\site-packages (from update-checker>=0.16->TPOT) (2.22.0)\n",
      "Requirement already satisfied: threadpoolctl>=2.0.0 in c:\\users\\shraddha\\anaconda3\\lib\\site-packages (from scikit-learn>=0.22.0->TPOT) (2.1.0)\n",
      "Requirement already satisfied: python-dateutil>=2.7.3 in c:\\users\\shraddha\\anaconda3\\lib\\site-packages (from pandas>=0.24.2->TPOT) (2.8.0)\n",
      "Requirement already satisfied: pytz>=2017.2 in c:\\users\\shraddha\\anaconda3\\lib\\site-packages (from pandas>=0.24.2->TPOT) (2019.3)\n",
      "Requirement already satisfied: urllib3!=1.25.0,!=1.25.1,<1.26,>=1.21.1 in c:\\users\\shraddha\\anaconda3\\lib\\site-packages (from requests>=2.3.0->update-checker>=0.16->TPOT) (1.24.2)\n",
      "Requirement already satisfied: chardet<3.1.0,>=3.0.2 in c:\\users\\shraddha\\anaconda3\\lib\\site-packages (from requests>=2.3.0->update-checker>=0.16->TPOT) (3.0.4)\n",
      "Requirement already satisfied: certifi>=2017.4.17 in c:\\users\\shraddha\\anaconda3\\lib\\site-packages (from requests>=2.3.0->update-checker>=0.16->TPOT) (2019.9.11)\n",
      "Requirement already satisfied: idna<2.9,>=2.5 in c:\\users\\shraddha\\anaconda3\\lib\\site-packages (from requests>=2.3.0->update-checker>=0.16->TPOT) (2.8)\n",
      "Requirement already satisfied: six>=1.5 in c:\\users\\shraddha\\anaconda3\\lib\\site-packages (from python-dateutil>=2.7.3->pandas>=0.24.2->TPOT) (1.12.0)\n"
     ]
    }
   ],
   "source": [
    "!pip install TPOT"
   ]
  },
  {
   "cell_type": "code",
   "execution_count": 10,
   "metadata": {},
   "outputs": [
    {
     "data": {
      "application/vnd.jupyter.widget-view+json": {
       "model_id": "",
       "version_major": 2,
       "version_minor": 0
      },
      "text/plain": [
       "HBox(children=(IntProgress(value=0, description='Optimization Progress', max=120, style=ProgressStyle(descript…"
      ]
     },
     "metadata": {},
     "output_type": "display_data"
    },
    {
     "name": "stdout",
     "output_type": "stream",
     "text": [
      "\n",
      "Generation 1 - Current best internal CV score: 0.7422459184429089\n",
      "Generation 2 - Current best internal CV score: 0.7422459184429089\n",
      "Generation 3 - Current best internal CV score: 0.7422459184429089\n",
      "Generation 4 - Current best internal CV score: 0.7422459184429089\n",
      "Generation 5 - Current best internal CV score: 0.7423330644124079\n",
      "Best pipeline: LogisticRegression(input_matrix, C=0.1, dual=False, penalty=l2)\n",
      "\n",
      "AUC score: 0.7853\n",
      "\n",
      "Best pipeline steps:\n",
      "1. LogisticRegression(C=0.1, random_state=42)\n"
     ]
    }
   ],
   "source": [
    "\n",
    "from tpot import TPOTClassifier\n",
    "from sklearn.metrics import roc_auc_score\n",
    "\n",
    "\n",
    "tpot = TPOTClassifier(\n",
    "    generations=5,\n",
    "    population_size=20,\n",
    "    verbosity=2,\n",
    "    scoring='roc_auc',\n",
    "    random_state=42,\n",
    "    disable_update_check=True,\n",
    "    config_dict='TPOT light'\n",
    ")\n",
    "tpot.fit(x_train, y_train)\n",
    "\n",
    "\n",
    "tpot_auc_score = roc_auc_score(y_test, tpot.predict_proba(x_test)[:, 1])\n",
    "print(f'\\nAUC score: {tpot_auc_score:.4f}')\n",
    "\n",
    "\n",
    "print('\\nBest pipeline steps:', end='\\n')\n",
    "for idx, (name, transform) in enumerate(tpot.fitted_pipeline_.steps, start=1):\n",
    "\n",
    "    print(f'{idx}. {transform}')"
   ]
  },
  {
   "cell_type": "markdown",
   "metadata": {},
   "source": [
    "## Task 8:\n",
    "Check the variance.<br>•Print X_train's variance using var() method and round it to 3 decimal places.pandas.DataFrame.var() method returns column-wise variance of a DataFrame, which makescomparing the variance across the features in X_train simple and straightforward "
   ]
  },
  {
   "cell_type": "code",
   "execution_count": 12,
   "metadata": {},
   "outputs": [
    {
     "name": "stdout",
     "output_type": "stream",
     "text": [
      "\n",
      "X_train Variance :\n",
      " Recency (months)              66.929\n",
      "Frequency (times)             33.830\n",
      "Monetary (c.c. blood)    2114363.700\n",
      "Time (months)                611.147\n",
      "dtype: float64\n"
     ]
    }
   ],
   "source": [
    "\n",
    "variance = round(x_train.var(),3)\n",
    "print(f'\\nX_train Variance :\\n {variance}')"
   ]
  },
  {
   "cell_type": "markdown",
   "metadata": {},
   "source": [
    "## Task9:\n",
    "InstructionsCorrect for high variance.<p>•Copy X_train and X_test into X_train_normed and X_test_normed respectively.<br>•Assign the column name (a string) that has the highest varianceto col_to_normalize variable.<br>•For X_train and X_test DataFrames:\n",
    "•Log normalize col_to_normalize to add it to the DataFrame.•Drop col_to_normalize.•Print X_train_normed variance using var() method and round it to 3 decimal places.<p>X_train and X_test must have the same structure. To keep your code \"DRY\" (Don't RepeatYourself), you are using a for-loop to apply the same set of transformations to each of theDataFrames.Normally, you'll do pre-processing before you split the data (it could be one of the steps in machinelearning pipeline). Here, you are testing various ideas with the goal to improve model performance,and therefore this approach is fine."
   ]
  },
  {
   "cell_type": "code",
   "execution_count": 13,
   "metadata": {},
   "outputs": [
    {
     "data": {
      "text/plain": [
       "2114363.7"
      ]
     },
     "execution_count": 13,
     "metadata": {},
     "output_type": "execute_result"
    }
   ],
   "source": [
    "variance.max()"
   ]
  },
  {
   "cell_type": "code",
   "execution_count": 15,
   "metadata": {},
   "outputs": [
    {
     "data": {
      "text/plain": [
       "Recency (months)      66.929\n",
       "Frequency (times)     33.830\n",
       "Time (months)        611.147\n",
       "monetary_log           0.837\n",
       "dtype: float64"
      ]
     },
     "execution_count": 15,
     "metadata": {},
     "output_type": "execute_result"
    }
   ],
   "source": [
    "import numpy as np\n",
    "\n",
    "\n",
    "x_train_normed, x_test_normed = x_train.copy(), x_test.copy()\n",
    "\n",
    "\n",
    "col_to_normalize = 'Monetary (c.c. blood)'\n",
    "\n",
    "\n",
    "for df_ in [x_train_normed, x_test_normed]:\n",
    "   \n",
    "    df_['monetary_log'] = np.log(df_[col_to_normalize])\n",
    "  \n",
    "    df_.drop(columns=col_to_normalize, inplace=True)\n",
    "\n",
    "\n",
    "\n",
    "round(x_train_normed.var(),3)"
   ]
  },
  {
   "cell_type": "markdown",
   "metadata": {},
   "source": [
    "## Task 10:\n",
    "Train the logistic regression model.•Import linear_model from sklearn.•Create an instance of linear_model.LogisticRegression and assign itto logreg variable.•Train logreg model using the fit() method.•Print logreg_auc_score.<p>The scikit-learn library has a consistent API when it comes to fitting a model:1.Create an instance of a model you want to train.2.Train it on your train datasets using the fit method.You may recognise this pattern from when you trained TPOT model. This is the beauty ofthe scikit-learn library: you can quickly try out different models with only a few code changes"
   ]
  },
  {
   "cell_type": "code",
   "execution_count": 16,
   "metadata": {},
   "outputs": [
    {
     "name": "stdout",
     "output_type": "stream",
     "text": [
      "\n",
      "AUC score: 0.7891\n"
     ]
    }
   ],
   "source": [
    "\n",
    "from sklearn import linear_model\n",
    "\n",
    "\n",
    "logreg = linear_model.LogisticRegression(\n",
    "    solver='liblinear',\n",
    "    random_state=42\n",
    ")\n",
    "\n",
    "\n",
    "logreg.fit(x_train_normed, y_train)\n",
    "\n",
    "\n",
    "logreg_auc_score = roc_auc_score(y_test, logreg.predict_proba(x_test_normed)[:, 1])\n",
    "print(f'\\nAUC score: {logreg_auc_score:.4f}')"
   ]
  },
  {
   "cell_type": "markdown",
   "metadata": {},
   "source": [
    "## Task 11:\n",
    "Sort your models based on their AUC score from highest to lowest.<br>•Import itemgetter from operator module.<br>•Sort the list of (model_name, model_score) pairs from highest to lowestusing reverse=True parameter."
   ]
  },
  {
   "cell_type": "code",
   "execution_count": 17,
   "metadata": {},
   "outputs": [
    {
     "data": {
      "text/plain": [
       "[('logreg', 0.7890972663699937), ('tpot', 0.7852828989192625)]"
      ]
     },
     "execution_count": 17,
     "metadata": {},
     "output_type": "execute_result"
    }
   ],
   "source": [
    "\n",
    "from operator import itemgetter\n",
    "\n",
    "\n",
    "sorted(\n",
    "    [('tpot', tpot_auc_score), ('logreg', logreg_auc_score)],\n",
    "    key=itemgetter(1),\n",
    "    reverse=True\n",
    ")"
   ]
  },
  {
   "cell_type": "markdown",
   "metadata": {},
   "source": [
    "### Congratulations, you've made it to the end! Good luck and keep on learning!"
   ]
  },
  {
   "cell_type": "markdown",
   "metadata": {},
   "source": [
    "\n",
    "<b>Shubham R Khule \n",
    "<br>M.Sc(Data Science & Big Data Analytics)\n",
    "<br>Pune, India</b>"
   ]
  }
 ],
 "metadata": {
  "kernelspec": {
   "display_name": "Python 3",
   "language": "python",
   "name": "python3"
  },
  "language_info": {
   "codemirror_mode": {
    "name": "ipython",
    "version": 3
   },
   "file_extension": ".py",
   "mimetype": "text/x-python",
   "name": "python",
   "nbconvert_exporter": "python",
   "pygments_lexer": "ipython3",
   "version": "3.7.4"
  }
 },
 "nbformat": 4,
 "nbformat_minor": 2
}
